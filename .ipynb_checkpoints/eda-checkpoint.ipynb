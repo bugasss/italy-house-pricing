{
 "cells": [
  {
   "cell_type": "code",
   "execution_count": 42,
   "metadata": {
    "collapsed": true
   },
   "outputs": [],
   "source": [
    "import pandas as pd\n",
    "import numpy as np\n",
    "from sklearn.base import BaseEstimator, TransformerMixin\n",
    "from sklearn.model_selection import train_test_split\n",
    "from sklearn.impute import SimpleImputer\n",
    "from sklearn.preprocessing import StandardScaler, LabelEncoder\n",
    "from sklearn.pipeline import FeatureUnion, Pipeline\n",
    "from sklearn.linear_model import LinearRegression\n",
    "from sklearn.ensemble import GradientBoostingRegressor, RandomForestRegressor\n",
    "from sklearn.metrics import mean_absolute_error, mean_squared_error, r2_score"
   ]
  },
  {
   "cell_type": "code",
   "execution_count": 43,
   "metadata": {},
   "outputs": [],
   "source": [
    "from clean_rents2 import LabelCleaner, ColumnsSelector, LabelTransformer, NumericalTransformer, CategoricalTransformer\n",
    "from sklearn.pipeline import Pipeline"
   ]
  },
  {
   "cell_type": "code",
   "execution_count": 44,
   "metadata": {},
   "outputs": [],
   "source": [
    "df = pd.read_parquet(\"dataframes/italy_housing_price_rent_raw.parquet.gzip\")\n",
    "df = df[['prezzo', 'stanze', 'bagni', 'superficie', 'Posti Auto']]\n",
    "target_cleaner = LabelCleaner(df['prezzo'])\n",
    "df['prezzo'] = target_cleaner.clean_target()\n",
    "df = df.dropna(subset=['prezzo'])\n",
    "\n",
    "X = df.drop(['prezzo'], axis=1)\n",
    "y = df['prezzo']\n",
    "X_train, X_test, y_train, y_test = train_test_split(X, y, test_size=0.2, random_state=42)"
   ]
  },
  {
   "cell_type": "code",
   "execution_count": 45,
   "metadata": {},
   "outputs": [],
   "source": [
    "numerical_columns = ['superficie']\n",
    "label = ['prezzo']\n",
    "\n",
    "label_transformer = Pipeline(steps=[\n",
    "    ('label_selector', ColumnsSelector(label)),\n",
    "    ('label_transformer', LabelTransformer())\n",
    "])\n"
   ]
  },
  {
   "cell_type": "code",
   "execution_count": 46,
   "metadata": {},
   "outputs": [],
   "source": [
    "numeric_transformer = Pipeline(steps=[\n",
    "    ('num_selector', ColumnsSelector(numerical_columns)),\n",
    "    ('num_transformer', NumericalTransformer()),\n",
    "    ('imputer', SimpleImputer(strategy='median')),\n",
    "    ('scaler', StandardScaler())\n",
    "])\n"
   ]
  },
  {
   "cell_type": "code",
   "execution_count": 47,
   "metadata": {},
   "outputs": [],
   "source": [
    "categorical_columns = ['stanze', 'bagni', 'Posti Auto']\n",
    "\n",
    "categorical_transformer = Pipeline(steps=[\n",
    "    ('cat_selector', ColumnsSelector(categorical_columns)),\n",
    "    ('cat_transformer', CategoricalTransformer()),\n",
    "    ('imputer', SimpleImputer(strategy='most_frequent'))\n",
    "])\n"
   ]
  },
  {
   "cell_type": "markdown",
   "metadata": {},
   "source": []
  },
  {
   "cell_type": "code",
   "execution_count": 48,
   "metadata": {},
   "outputs": [],
   "source": [
    "feature_pipeline = FeatureUnion( transformer_list = [\n",
    "    ('numerical_pipeline', numeric_transformer ),\n",
    "    ('categorical_pipeline', categorical_transformer ) ] )\n"
   ]
  },
  {
   "cell_type": "code",
   "execution_count": 49,
   "metadata": {},
   "outputs": [],
   "source": [
    "lr = LinearRegression()\n",
    "rf = RandomForestRegressor()\n",
    "xgb = GradientBoostingRegressor()\n",
    "\n",
    "models = {\n",
    "    'Linear regression': lr,\n",
    "    'Random forest': rf,\n",
    "    'XGBoost': xgb\n",
    "          }\n",
    "\n",
    "full_pipeline = Pipeline(steps=[\n",
    "    ('feature_pipeline', feature_pipeline),\n",
    "    ('model', LinearRegression() )\n",
    "])\n"
   ]
  },
  {
   "cell_type": "code",
   "execution_count": 50,
   "metadata": {},
   "outputs": [],
   "source": [
    "full_pipeline.fit(X_train, y_train)\n",
    "train_pred = full_pipeline.predict(X_train)"
   ]
  },
  {
   "cell_type": "code",
   "execution_count": 50,
   "metadata": {},
   "outputs": [],
   "source": []
  },
  {
   "cell_type": "code",
   "execution_count": 51,
   "metadata": {},
   "outputs": [
    {
     "name": "stdout",
     "output_type": "stream",
     "text": [
      "**************************************************\n",
      "Linear regression Training score:\n",
      "MAE: 1994.0082 | RMSE: 26382.808 | R2: 0.001\n",
      "**************************************************\n",
      "Random forest Training score:\n",
      "MAE: 1994.0082 | RMSE: 26382.808 | R2: 0.001\n",
      "**************************************************\n",
      "XGBoost Training score:\n",
      "MAE: 1994.0082 | RMSE: 26382.808 | R2: 0.001\n"
     ]
    }
   ],
   "source": [
    "for name, model in models.items():\n",
    "\n",
    "    full_pipeline = Pipeline(steps=[\n",
    "        ('feature_pipeline', feature_pipeline),\n",
    "        ('model', LinearRegression() )\n",
    "    ])\n",
    "\n",
    "    # model fitting\n",
    "    full_pipeline.fit(X_train, y_train)\n",
    "\n",
    "    # model scoring\n",
    "    train_pred = full_pipeline.predict(X_train)\n",
    "\n",
    "    # Evaluate model performance\n",
    "    print('*' * 50)\n",
    "    print(f'{name} Training score:')\n",
    "    print(f'MAE: {round(mean_absolute_error(y_train, train_pred),4)} | RMSE: {round(mean_squared_error(y_train, train_pred, squared=False),4)} | R2: {round(r2_score(y_train, train_pred),4)}')"
   ]
  }
 ],
 "metadata": {
  "kernelspec": {
   "display_name": "Python 3 (ipykernel)",
   "language": "python",
   "name": "python3"
  },
  "language_info": {
   "codemirror_mode": {
    "name": "ipython",
    "version": 3
   },
   "file_extension": ".py",
   "mimetype": "text/x-python",
   "name": "python",
   "nbconvert_exporter": "python",
   "pygments_lexer": "ipython3",
   "version": "3.10.4"
  },
  "varInspector": {
   "cols": {
    "lenName": 16,
    "lenType": 16,
    "lenVar": 40
   },
   "kernels_config": {
    "python": {
     "delete_cmd_postfix": "",
     "delete_cmd_prefix": "del ",
     "library": "var_list.py",
     "varRefreshCmd": "print(var_dic_list())"
    },
    "r": {
     "delete_cmd_postfix": ") ",
     "delete_cmd_prefix": "rm(",
     "library": "var_list.r",
     "varRefreshCmd": "cat(var_dic_list()) "
    }
   },
   "types_to_exclude": [
    "module",
    "function",
    "builtin_function_or_method",
    "instance",
    "_Feature"
   ],
   "window_display": false
  }
 },
 "nbformat": 4,
 "nbformat_minor": 1
}
